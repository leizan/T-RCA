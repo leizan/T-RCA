{
 "cells": [
  {
   "cell_type": "code",
   "execution_count": 5,
   "id": "331895f0-61df-4978-86a2-437fa4fa873c",
   "metadata": {
    "tags": []
   },
   "outputs": [],
   "source": [
    "from collections import defaultdict\n",
    "from typing import Dict\n",
    "from typing import Sequence\n",
    "from typing import Tuple\n",
    "\n",
    "import networkx as nx\n",
    "from sklearn.linear_model import LinearRegression\n",
    "\n",
    "import sys\n",
    "sys.path.append('/home/lzan/Bureau/Dynamic causal graph/root-cause-analysis/RAITIA/baseline/CIRCA-master')\n",
    "\n",
    "from circa.alg.ci import RHTScorer\n",
    "from circa.alg.ci.anm import ANMRegressor\n",
    "from circa.alg.common import Model\n",
    "from circa.graph.common import StaticGraphFactory\n",
    "from circa.model.case import CaseData\n",
    "from circa.model.data_loader import MemoryDataLoader\n",
    "from circa.model.graph import MemoryGraph\n",
    "from circa.model.graph import Node"
   ]
  },
  {
   "cell_type": "code",
   "execution_count": 10,
   "id": "1061c7e8-4e58-4270-8fe9-b9e0a0bfe6dd",
   "metadata": {
    "tags": []
   },
   "outputs": [
    {
     "name": "stdout",
     "output_type": "stream",
     "text": [
      "[(Node('DB', 'Saturation'), {'score': 383.2518754031084, 'info': {'z-score': 383.2518754031084, 'Confidence': 1.0}}), (Node('DB', 'Latency'), {'score': 355.00000000000006, 'info': {'z-score': 355.00000000000006, 'Confidence': 1.0}}), (Node('DB', 'Traffic'), {'score': 12.24744871391589, 'info': {'z-score': 12.24744871391589, 'Confidence': 1.0}})]\n"
     ]
    }
   ],
   "source": [
    "latency = Node(\"DB\", \"Latency\")\n",
    "traffic = Node(\"DB\", \"Traffic\")\n",
    "saturation = Node(\"DB\", \"Saturation\")\n",
    "# circa.model.graph.MemoryGraph is derived from circa.model.graph.Graph\n",
    "graph = MemoryGraph(\n",
    "    nx.DiGraph(\n",
    "        {\n",
    "            traffic: [latency, saturation],\n",
    "            saturation: [latency],\n",
    "        }\n",
    "    )\n",
    ")\n",
    "\n",
    "# 1. Assemble an algorithm\n",
    "# circa.graph.common.StaticGraphFactory is derived from circa.graph.GraphFactory\n",
    "\n",
    "graph_factory = StaticGraphFactory(graph)\n",
    "scorers = [\n",
    "    # circa.alg.ci.RHTScorer is derived from circa.alg.common.DecomposableScorer,\n",
    "    # which is further derived from circa.alg.base.Scorer\n",
    "    RHTScorer(regressor=ANMRegressor(regressor=LinearRegression())),\n",
    "]\n",
    "model = Model(graph_factory=graph_factory, scorers=scorers)\n",
    "\n",
    "# 2. Prepare data\n",
    "mock_data = {\n",
    "    latency: (10, 12, 11, 9, 100, 90),\n",
    "    traffic: (100, 110, 90, 105, 200, 150),\n",
    "    saturation: (5, 4, 5, 6, 90, 85),\n",
    "}\n",
    "mock_data_with_time: Dict[str, Dict[str, Sequence[Tuple[float, float]]]] = defaultdict(\n",
    "    dict\n",
    ")\n",
    "for node, values in mock_data.items():\n",
    "    mock_data_with_time[node.entity][node.metric] = [\n",
    "        (index * 60, value) for index, value in enumerate(values)\n",
    "    ]\n",
    "data = CaseData(\n",
    "    # circa.model.data_loader.MemoryDataLoader is derived from\n",
    "    # circa.model.data_loader.DataLoader, which manages data with configurations\n",
    "    data_loader=MemoryDataLoader(mock_data_with_time),\n",
    "    sli=latency,\n",
    "    detect_time=240,\n",
    "    lookup_window=4,\n",
    "    detect_window=2,\n",
    ")\n",
    "\n",
    "# 3. Conduct root cause analysis one minute after a fault is detected\n",
    "print(model.analyze(data=data, current=data.detect_time + 60))"
   ]
  },
  {
   "cell_type": "code",
   "execution_count": 26,
   "id": "2dbde174-92f6-4265-aeca-600e1851ff0b",
   "metadata": {
    "tags": []
   },
   "outputs": [],
   "source": [
    "g = nx.DiGraph(\n",
    "        {\n",
    "            traffic: [latency, saturation],\n",
    "            saturation: [latency],\n",
    "        }\n",
    ")"
   ]
  },
  {
   "cell_type": "code",
   "execution_count": 31,
   "id": "62279cde-2e80-4741-ae9e-758d2ed24494",
   "metadata": {
    "tags": []
   },
   "outputs": [],
   "source": [
    "edges = {'a': {'b': {}, 'c': {}}, 'b': {'e': {}}, 'c': {'d': {}, 'f': {}}, 'e': {}, 'd': {}, 'f': {}}\n",
    "\n",
    "a = Node(\"DB\", \"a\")\n",
    "b = Node(\"DB\", \"b\")\n",
    "c = Node(\"DB\", \"c\")\n",
    "d = Node(\"DB\", \"d\")\n",
    "e = Node(\"DB\", \"e\")\n",
    "f = Node(\"DB\", \"f\")\n",
    "\n",
    "str_to_node = {'a': a,\n",
    "               'b': b,\n",
    "               'c': c,\n",
    "               'd': d,\n",
    "               'e': e,\n",
    "               'f': f}\n",
    "\n",
    "            \n",
    "graph = nx.DiGraph()\n",
    "inter_nodes = []\n",
    "\n",
    "# Iterate through the dictionary and add nodes and edges to the graph\n",
    "for parent, children in edges.items():\n",
    "    # Add the parent node to the graph\n",
    "    graph.add_node(str_to_node[parent])\n",
    "\n",
    "    # Iterate through the children of the parent\n",
    "    for child in children.keys():\n",
    "        # Add the child node to the graph and create a directed edge from parent to child\n",
    "        graph.add_node(str_to_node[child])\n",
    "        if child not in inter_nodes:\n",
    "            graph.add_edge(str_to_node[parent], str_to_node[child])            \n",
    "\n"
   ]
  },
  {
   "cell_type": "code",
   "execution_count": 34,
   "id": "7cc76b8a-a6a5-417e-ae7c-1cc5615dc79c",
   "metadata": {
    "tags": []
   },
   "outputs": [
    {
     "data": {
      "text/plain": [
       "NodeView((Node('DB', 'a'), Node('DB', 'b'), Node('DB', 'c'), Node('DB', 'e'), Node('DB', 'd'), Node('DB', 'f')))"
      ]
     },
     "execution_count": 34,
     "metadata": {},
     "output_type": "execute_result"
    }
   ],
   "source": [
    "graph_2 = graph.copy()\n",
    "\n",
    "for node in graph.nodes:\n",
    "    "
   ]
  },
  {
   "cell_type": "code",
   "execution_count": null,
   "id": "22165d48-e5ba-4b3d-bebb-ef9cebdb9909",
   "metadata": {},
   "outputs": [],
   "source": []
  }
 ],
 "metadata": {
  "kernelspec": {
   "display_name": "Python 3",
   "language": "python",
   "name": "python3"
  },
  "language_info": {
   "codemirror_mode": {
    "name": "ipython",
    "version": 3
   },
   "file_extension": ".py",
   "mimetype": "text/x-python",
   "name": "python",
   "nbconvert_exporter": "python",
   "pygments_lexer": "ipython3",
   "version": "3.8.18"
  }
 },
 "nbformat": 4,
 "nbformat_minor": 5
}
