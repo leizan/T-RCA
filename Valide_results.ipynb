{
 "cells": [
  {
   "cell_type": "code",
   "execution_count": 10,
   "id": "632329fe-8074-4137-a790-3aabfdba8ef8",
   "metadata": {
    "tags": []
   },
   "outputs": [],
   "source": [
    "import os\n",
    "import json "
   ]
  },
  {
   "cell_type": "markdown",
   "id": "700e3e43-b0fc-4d3b-837e-b83a973fa681",
   "metadata": {},
   "source": [
    "# T-DSCM"
   ]
  },
  {
   "cell_type": "code",
   "execution_count": 22,
   "id": "1c6c178e-54b2-4ce4-905d-4b3b42b9b7d2",
   "metadata": {
    "tags": []
   },
   "outputs": [
    {
     "name": "stdout",
     "output_type": "stream",
     "text": [
      "Mechanisme: different_path\n",
      "Scenario: certain\n",
      "Mechanisme: different_path\n",
      "Scenario: certain_SC\n",
      "Mechanisme: different_path\n",
      "Scenario: uncertain\n",
      "Mechanisme: different_path\n",
      "Scenario: uncertain_SC\n",
      "Mechanisme: one_path\n",
      "Scenario: certain\n",
      "Mechanisme: one_path\n",
      "Scenario: certain_SC\n",
      "Mechanisme: one_path\n",
      "Scenario: uncertain\n",
      "Mechanisme: one_path\n",
      "Scenario: uncertain_SC\n"
     ]
    }
   ],
   "source": [
    "# list_process = ['T-DSCM']\n",
    "# list_mechanisme = ['different_path', 'one_path']\n",
    "# list_scenarios = ['certain', 'certain_SC', 'uncertain', 'uncertain_SC']\n",
    "# list_sampling_number = [10, 20, 50, 100, 200, 500, 1000, 2000]\n",
    "# list_sig_level = [0.01]\n",
    "# list_methods = ['AITIA_PM', 'CIRCA', 'CIRCA_star', 'CloudRanger', 'EasyRCA', 'EasyRCA_star', 'MicroCause', 'RCD', 'TRCA', 'TRCA_agent']\n",
    "# methods_change = ['CIRCA_star', 'CloudRanger', 'MicroCause', 'RCD']\n",
    "\n",
    "\n",
    "# for process in list_process:\n",
    "#     for mechanisme in list_mechanisme:\n",
    "#         for scenario in list_scenarios:\n",
    "#             print('Mechanisme: ' + mechanisme)\n",
    "#             print('Scenario: ' + scenario)\n",
    "#             result_path_new = os.path.join('Results', process, mechanisme, scenario)\n",
    "#             result_files_new = [os.path.join(result_path_new, f) for f in os.listdir(result_path_new) if os.path.isfile(os.path.join(result_path_new, f))]\n",
    "#             result_path_old = os.path.join('Results_sim_20000', process, mechanisme, scenario)\n",
    "#             result_files_old = [os.path.join(result_path_old, f) for f in os.listdir(result_path_old) if os.path.isfile(os.path.join(result_path_old, f))]\n",
    "#             for method in list_methods:\n",
    "#                 for res_file in result_files_old:\n",
    "#                     if res_file.split('/')[-1].split('.')[0] == method:\n",
    "#                         with open(res_file, 'r') as json_file:\n",
    "#                             res_2 = json.load(json_file)\n",
    "#                 for res_file in result_files_new:\n",
    "#                     if res_file.split('/')[-1].split('.')[0] == method:\n",
    "#                         with open(res_file, 'r') as json_file:\n",
    "#                             res_1 = json.load(json_file)\n",
    "#                             if method == 'CIRCA' and 'SC' in scenario:\n",
    "#                                 for sig_level in list_sig_level:\n",
    "#                                     for sampling_number in list_sampling_number:\n",
    "#                                         res_1[str(sig_level)][str(sampling_number)] = res_2[str(sig_level)][str(sampling_number)]\n",
    "#                             elif method in methods_change:\n",
    "#                                 for sig_level in list_sig_level:\n",
    "#                                     for sampling_number in list_sampling_number:\n",
    "#                                         res_1[str(sig_level)][str(sampling_number)] = res_2[str(sig_level)][str(sampling_number)]\n",
    "#                             with open(res_file, 'w') as json_file:\n",
    "#                                     json.dump(res_1, json_file)                                                                          "
   ]
  },
  {
   "cell_type": "code",
   "execution_count": 23,
   "id": "3360aa73-4277-46ee-8662-17cb7af67d4b",
   "metadata": {
    "tags": []
   },
   "outputs": [
    {
     "name": "stdout",
     "output_type": "stream",
     "text": [
      "Mechanisme: different_path\n",
      "Scenario: certain\n",
      "###############################\n",
      "###############################\n",
      "Mechanisme: different_path\n",
      "Scenario: certain_SC\n",
      "###############################\n",
      "###############################\n",
      "Mechanisme: different_path\n",
      "Scenario: uncertain\n",
      "###############################\n",
      "###############################\n",
      "Mechanisme: different_path\n",
      "Scenario: uncertain_SC\n",
      "###############################\n",
      "###############################\n",
      "Mechanisme: one_path\n",
      "Scenario: certain\n",
      "Method: TRCA_agent\n",
      "res_1:\n",
      "{'0.01': {'10': [1.0, 0.0], '20': [1.0, 0.0], '50': [1.0, 0.0], '100': [1.0, 0.0], '200': [1.0, 0.0], '500': [1.0, 0.0], '1000': [1.0, 0.0], '2000': [1.0, 0.0]}}\n",
      "res_2:\n",
      "{'0.01': {'10': [0.99, 0.05], '100': [0.99, 0.05], '500': [0.99, 0.05], '1000': [0.99, 0.05], '2000': [0.99, 0.05], '20': [0.99, 0.05], '50': [0.99, 0.05], '200': [0.99, 0.05]}, '0.05': {'10': [0.98, 0.08], '100': [0.98, 0.08], '500': [0.98, 0.08], '1000': [0.98, 0.08], '2000': [0.98, 0.08], '20': [0.98, 0.08], '50': [0.98, 0.08], '200': [0.98, 0.08]}}\n",
      "Different results.\n",
      "###############################\n",
      "###############################\n",
      "Mechanisme: one_path\n",
      "Scenario: certain_SC\n",
      "Method: TRCA_agent\n",
      "res_1:\n",
      "{'0.01': {'10': [1.0, 0.0], '20': [1.0, 0.0], '50': [1.0, 0.0], '100': [1.0, 0.0], '200': [1.0, 0.0], '500': [1.0, 0.0], '1000': [1.0, 0.0], '2000': [1.0, 0.0]}}\n",
      "res_2:\n",
      "{'0.01': {'10': [0.99, 0.05], '100': [0.99, 0.05], '500': [0.99, 0.05], '1000': [0.99, 0.05], '2000': [0.99, 0.05], '20': [0.99, 0.05], '50': [0.99, 0.05], '200': [0.99, 0.05]}, '0.05': {'10': [1.0, 0.0], '100': [1.0, 0.0], '500': [1.0, 0.0], '1000': [1.0, 0.0], '2000': [1.0, 0.0], '20': [1.0, 0.0], '50': [1.0, 0.0], '200': [1.0, 0.0]}}\n",
      "Different results.\n",
      "###############################\n",
      "###############################\n",
      "Mechanisme: one_path\n",
      "Scenario: uncertain\n",
      "###############################\n",
      "###############################\n",
      "Mechanisme: one_path\n",
      "Scenario: uncertain_SC\n",
      "Method: TRCA_agent\n",
      "res_1:\n",
      "{'0.01': {'10': [1.0, 0.0], '20': [1.0, 0.0], '50': [1.0, 0.0], '100': [1.0, 0.0], '200': [1.0, 0.0], '500': [1.0, 0.0], '1000': [1.0, 0.0], '2000': [1.0, 0.0]}}\n",
      "res_2:\n",
      "{'0.01': {'10': [0.99, 0.05], '100': [0.99, 0.05], '500': [0.99, 0.05], '1000': [0.99, 0.05], '2000': [0.99, 0.05], '20': [0.99, 0.05], '50': [0.99, 0.05], '200': [0.99, 0.05]}, '0.05': {'10': [0.98, 0.08], '100': [0.98, 0.08], '500': [0.98, 0.08], '1000': [0.98, 0.08], '2000': [0.98, 0.08], '20': [0.98, 0.08], '50': [0.98, 0.08], '200': [0.98, 0.08]}}\n",
      "Different results.\n",
      "###############################\n",
      "###############################\n"
     ]
    }
   ],
   "source": [
    "list_process = ['T-DSCM']\n",
    "list_mechanisme = ['different_path', 'one_path']\n",
    "list_scenarios = ['certain', 'certain_SC', 'uncertain', 'uncertain_SC']\n",
    "list_sampling_number = [10, 20, 50, 100, 200, 500, 1000, 2000]\n",
    "list_sig_level = [0.01]\n",
    "list_methods = ['AITIA_PM', 'CIRCA', 'CIRCA_star', 'CloudRanger', 'EasyRCA', 'EasyRCA_star', 'MicroCause', 'RCD', 'TRCA', 'TRCA_agent']\n",
    "\n",
    "\n",
    "for process in list_process:\n",
    "    for mechanisme in list_mechanisme:\n",
    "        for scenario in list_scenarios:\n",
    "            print('Mechanisme: ' + mechanisme)\n",
    "            print('Scenario: ' + scenario)\n",
    "            result_path_new = os.path.join('Results', process, mechanisme, scenario)\n",
    "            result_files_new = [os.path.join(result_path_new, f) for f in os.listdir(result_path_new) if os.path.isfile(os.path.join(result_path_new, f))]\n",
    "            result_path_old = os.path.join('Results_sim_20000', process, mechanisme, scenario)\n",
    "            result_files_old = [os.path.join(result_path_old, f) for f in os.listdir(result_path_old) if os.path.isfile(os.path.join(result_path_old, f))]\n",
    "            for method in list_methods:\n",
    "                for res_file in result_files_new:\n",
    "                    if res_file.split('/')[-1].split('.')[0] == method:\n",
    "                        with open(res_file, 'r') as json_file:\n",
    "                            res_1 = json.load(json_file)\n",
    "                for res_file in result_files_old:\n",
    "                    if res_file.split('/')[-1].split('.')[0] == method:\n",
    "                        with open(res_file, 'r') as json_file:\n",
    "                            res_2 = json.load(json_file)\n",
    "                flag_same = True\n",
    "                for sig_level in list_sig_level:\n",
    "                    for sampling_number in list_sampling_number:\n",
    "                        if not (res_1[str(sig_level)][str(sampling_number)] == res_2[str(sig_level)][str(sampling_number)]):\n",
    "                            flag_same = False\n",
    "                if flag_same == False:\n",
    "                    print('Method: ' + method)\n",
    "                    print('res_1:')\n",
    "                    print(res_1)\n",
    "                    print('res_2:')\n",
    "                    print(res_2)\n",
    "                    print('Different results.')\n",
    "            print('###############################')\n",
    "            print('###############################')\n",
    "                    \n",
    "            \n"
   ]
  },
  {
   "cell_type": "code",
   "execution_count": 7,
   "id": "f1cfcb90-44f3-4ea5-8611-a4c546e80e6a",
   "metadata": {
    "tags": []
   },
   "outputs": [
    {
     "data": {
      "text/plain": [
       "['Results/T-DSCM/one_path/uncertain_SC/MicroCause.json',\n",
       " 'Results/T-DSCM/one_path/uncertain_SC/CloudRanger.json',\n",
       " 'Results/T-DSCM/one_path/uncertain_SC/TRCA_agent.json',\n",
       " 'Results/T-DSCM/one_path/uncertain_SC/EasyRCA.json',\n",
       " 'Results/T-DSCM/one_path/uncertain_SC/EasyRCA_star.json',\n",
       " 'Results/T-DSCM/one_path/uncertain_SC/CIRCA.json',\n",
       " 'Results/T-DSCM/one_path/uncertain_SC/RCD.json',\n",
       " 'Results/T-DSCM/one_path/uncertain_SC/TRCA.json',\n",
       " 'Results/T-DSCM/one_path/uncertain_SC/CIRCA_star.json']"
      ]
     },
     "execution_count": 7,
     "metadata": {},
     "output_type": "execute_result"
    }
   ],
   "source": []
  },
  {
   "cell_type": "code",
   "execution_count": 8,
   "id": "218294b7-5f2a-4cf6-b6c3-4a6f73bebd37",
   "metadata": {
    "tags": []
   },
   "outputs": [
    {
     "data": {
      "text/plain": [
       "['Results_sim_20000/T-DSCM/one_path/uncertain_SC/MicroCause.json',\n",
       " 'Results_sim_20000/T-DSCM/one_path/uncertain_SC/CloudRanger.json',\n",
       " 'Results_sim_20000/T-DSCM/one_path/uncertain_SC/TRCA_agent.json',\n",
       " 'Results_sim_20000/T-DSCM/one_path/uncertain_SC/EasyRCA.json',\n",
       " 'Results_sim_20000/T-DSCM/one_path/uncertain_SC/EasyRCA_star.json',\n",
       " 'Results_sim_20000/T-DSCM/one_path/uncertain_SC/CIRCA.json',\n",
       " 'Results_sim_20000/T-DSCM/one_path/uncertain_SC/RCD.json',\n",
       " 'Results_sim_20000/T-DSCM/one_path/uncertain_SC/TRCA.json',\n",
       " 'Results_sim_20000/T-DSCM/one_path/uncertain_SC/CIRCA_star.json',\n",
       " 'Results_sim_20000/T-DSCM/one_path/uncertain_SC/AITIA_PM.json']"
      ]
     },
     "execution_count": 8,
     "metadata": {},
     "output_type": "execute_result"
    }
   ],
   "source": []
  },
  {
   "cell_type": "markdown",
   "id": "eca132c6-3c9b-41ae-a62e-c12c38226d8f",
   "metadata": {
    "tags": []
   },
   "source": [
    "# Change in causal coefficients"
   ]
  },
  {
   "cell_type": "markdown",
   "id": "71172596-00c9-4644-abf9-adcc0caa9b84",
   "metadata": {
    "tags": []
   },
   "source": [
    "# Change in noise"
   ]
  },
  {
   "cell_type": "code",
   "execution_count": null,
   "id": "d13a2747-eb56-4710-88c9-63db56891460",
   "metadata": {},
   "outputs": [],
   "source": []
  }
 ],
 "metadata": {
  "kernelspec": {
   "display_name": "Python 3",
   "language": "python",
   "name": "python3"
  },
  "language_info": {
   "codemirror_mode": {
    "name": "ipython",
    "version": 3
   },
   "file_extension": ".py",
   "mimetype": "text/x-python",
   "name": "python",
   "nbconvert_exporter": "python",
   "pygments_lexer": "ipython3",
   "version": "3.8.18"
  }
 },
 "nbformat": 4,
 "nbformat_minor": 5
}
