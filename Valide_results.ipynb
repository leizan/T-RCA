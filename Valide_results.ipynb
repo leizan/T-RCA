{
 "cells": [
  {
   "cell_type": "code",
   "execution_count": 45,
   "id": "632329fe-8074-4137-a790-3aabfdba8ef8",
   "metadata": {
    "tags": []
   },
   "outputs": [],
   "source": [
    "import os\n",
    "import json \n",
    "import numpy as np"
   ]
  },
  {
   "cell_type": "markdown",
   "id": "700e3e43-b0fc-4d3b-837e-b83a973fa681",
   "metadata": {},
   "source": [
    "# T-DSCM"
   ]
  },
  {
   "cell_type": "code",
   "execution_count": 22,
   "id": "1c6c178e-54b2-4ce4-905d-4b3b42b9b7d2",
   "metadata": {
    "tags": []
   },
   "outputs": [
    {
     "name": "stdout",
     "output_type": "stream",
     "text": [
      "Mechanisme: different_path\n",
      "Scenario: certain\n",
      "Mechanisme: different_path\n",
      "Scenario: certain_SC\n",
      "Mechanisme: different_path\n",
      "Scenario: uncertain\n",
      "Mechanisme: different_path\n",
      "Scenario: uncertain_SC\n",
      "Mechanisme: one_path\n",
      "Scenario: certain\n",
      "Mechanisme: one_path\n",
      "Scenario: certain_SC\n",
      "Mechanisme: one_path\n",
      "Scenario: uncertain\n",
      "Mechanisme: one_path\n",
      "Scenario: uncertain_SC\n"
     ]
    }
   ],
   "source": [
    "# list_process = ['T-DSCM']\n",
    "# list_mechanisme = ['different_path', 'one_path']\n",
    "# list_scenarios = ['certain', 'certain_SC', 'uncertain', 'uncertain_SC']\n",
    "# list_sampling_number = [10, 20, 50, 100, 200, 500, 1000, 2000]\n",
    "# list_sig_level = [0.01]\n",
    "# list_methods = ['AITIA_PM', 'CIRCA', 'CIRCA_star', 'CloudRanger', 'EasyRCA', 'EasyRCA_star', 'MicroCause', 'RCD', 'TRCA', 'TRCA_agent']\n",
    "# methods_change = ['CIRCA_star', 'CloudRanger', 'MicroCause', 'RCD']\n",
    "\n",
    "\n",
    "# for process in list_process:\n",
    "#     for mechanisme in list_mechanisme:\n",
    "#         for scenario in list_scenarios:\n",
    "#             print('Mechanisme: ' + mechanisme)\n",
    "#             print('Scenario: ' + scenario)\n",
    "#             result_path_new = os.path.join('Results', process, mechanisme, scenario)\n",
    "#             result_files_new = [os.path.join(result_path_new, f) for f in os.listdir(result_path_new) if os.path.isfile(os.path.join(result_path_new, f))]\n",
    "#             result_path_old = os.path.join('Results_sim_20000', process, mechanisme, scenario)\n",
    "#             result_files_old = [os.path.join(result_path_old, f) for f in os.listdir(result_path_old) if os.path.isfile(os.path.join(result_path_old, f))]\n",
    "#             for method in list_methods:\n",
    "#                 for res_file in result_files_old:\n",
    "#                     if res_file.split('/')[-1].split('.')[0] == method:\n",
    "#                         with open(res_file, 'r') as json_file:\n",
    "#                             res_2 = json.load(json_file)\n",
    "#                 for res_file in result_files_new:\n",
    "#                     if res_file.split('/')[-1].split('.')[0] == method:\n",
    "#                         with open(res_file, 'r') as json_file:\n",
    "#                             res_1 = json.load(json_file)\n",
    "#                             if method == 'CIRCA' and 'SC' in scenario:\n",
    "#                                 for sig_level in list_sig_level:\n",
    "#                                     for sampling_number in list_sampling_number:\n",
    "#                                         res_1[str(sig_level)][str(sampling_number)] = res_2[str(sig_level)][str(sampling_number)]\n",
    "#                             elif method in methods_change:\n",
    "#                                 for sig_level in list_sig_level:\n",
    "#                                     for sampling_number in list_sampling_number:\n",
    "#                                         res_1[str(sig_level)][str(sampling_number)] = res_2[str(sig_level)][str(sampling_number)]\n",
    "#                             with open(res_file, 'w') as json_file:\n",
    "#                                     json.dump(res_1, json_file)                                                                          "
   ]
  },
  {
   "cell_type": "code",
   "execution_count": 38,
   "id": "3360aa73-4277-46ee-8662-17cb7af67d4b",
   "metadata": {
    "tags": []
   },
   "outputs": [
    {
     "name": "stdout",
     "output_type": "stream",
     "text": [
      "Mechanisme: different_path\n",
      "Scenario: certain\n",
      "###############################\n",
      "###############################\n",
      "Mechanisme: different_path\n",
      "Scenario: certain_SC\n",
      "###############################\n",
      "###############################\n",
      "Mechanisme: different_path\n",
      "Scenario: uncertain\n",
      "###############################\n",
      "###############################\n",
      "Mechanisme: different_path\n",
      "Scenario: uncertain_SC\n",
      "###############################\n",
      "###############################\n",
      "Mechanisme: one_path\n",
      "Scenario: certain\n",
      "Method: TRCA_agent\n",
      "res_1:\n",
      "{'0.01': {'10': [1.0, 0.0], '20': [1.0, 0.0], '50': [1.0, 0.0], '100': [1.0, 0.0], '200': [1.0, 0.0], '500': [1.0, 0.0], '1000': [1.0, 0.0], '2000': [1.0, 0.0]}}\n",
      "res_2:\n",
      "{'0.01': {'10': [0.99, 0.05], '100': [0.99, 0.05], '500': [0.99, 0.05], '1000': [0.99, 0.05], '2000': [0.99, 0.05], '20': [0.99, 0.05], '50': [0.99, 0.05], '200': [0.99, 0.05]}, '0.05': {'10': [0.98, 0.08], '100': [0.98, 0.08], '500': [0.98, 0.08], '1000': [0.98, 0.08], '2000': [0.98, 0.08], '20': [0.98, 0.08], '50': [0.98, 0.08], '200': [0.98, 0.08]}}\n",
      "Different results.\n",
      "###############################\n",
      "###############################\n",
      "Mechanisme: one_path\n",
      "Scenario: certain_SC\n",
      "Method: TRCA_agent\n",
      "res_1:\n",
      "{'0.01': {'10': [1.0, 0.0], '20': [1.0, 0.0], '50': [1.0, 0.0], '100': [1.0, 0.0], '200': [1.0, 0.0], '500': [1.0, 0.0], '1000': [1.0, 0.0], '2000': [1.0, 0.0]}}\n",
      "res_2:\n",
      "{'0.01': {'10': [0.99, 0.05], '100': [0.99, 0.05], '500': [0.99, 0.05], '1000': [0.99, 0.05], '2000': [0.99, 0.05], '20': [0.99, 0.05], '50': [0.99, 0.05], '200': [0.99, 0.05]}, '0.05': {'10': [1.0, 0.0], '100': [1.0, 0.0], '500': [1.0, 0.0], '1000': [1.0, 0.0], '2000': [1.0, 0.0], '20': [1.0, 0.0], '50': [1.0, 0.0], '200': [1.0, 0.0]}}\n",
      "Different results.\n",
      "###############################\n",
      "###############################\n",
      "Mechanisme: one_path\n",
      "Scenario: uncertain\n",
      "###############################\n",
      "###############################\n",
      "Mechanisme: one_path\n",
      "Scenario: uncertain_SC\n",
      "Method: TRCA_agent\n",
      "res_1:\n",
      "{'0.01': {'10': [1.0, 0.0], '20': [1.0, 0.0], '50': [1.0, 0.0], '100': [1.0, 0.0], '200': [1.0, 0.0], '500': [1.0, 0.0], '1000': [1.0, 0.0], '2000': [1.0, 0.0]}}\n",
      "res_2:\n",
      "{'0.01': {'10': [0.99, 0.05], '100': [0.99, 0.05], '500': [0.99, 0.05], '1000': [0.99, 0.05], '2000': [0.99, 0.05], '20': [0.99, 0.05], '50': [0.99, 0.05], '200': [0.99, 0.05]}, '0.05': {'10': [0.98, 0.08], '100': [0.98, 0.08], '500': [0.98, 0.08], '1000': [0.98, 0.08], '2000': [0.98, 0.08], '20': [0.98, 0.08], '50': [0.98, 0.08], '200': [0.98, 0.08]}}\n",
      "Different results.\n",
      "###############################\n",
      "###############################\n"
     ]
    }
   ],
   "source": [
    "list_process = ['T-DSCM']\n",
    "list_mechanisme = ['different_path', 'one_path']\n",
    "list_scenarios = ['certain', 'certain_SC', 'uncertain', 'uncertain_SC']\n",
    "list_sampling_number = [10, 20, 50, 100, 200, 500, 1000, 2000]\n",
    "list_sig_level = [0.01]\n",
    "list_methods = ['AITIA_PM', 'CIRCA', 'CIRCA_star', 'CloudRanger', 'EasyRCA', 'EasyRCA_star', 'MicroCause', 'RCD', 'TRCA', 'TRCA_agent']\n",
    "\n",
    "\n",
    "for process in list_process:\n",
    "    for mechanisme in list_mechanisme:\n",
    "        for scenario in list_scenarios:\n",
    "            print('Mechanisme: ' + mechanisme)\n",
    "            print('Scenario: ' + scenario)\n",
    "            result_path_new = os.path.join('Results', process, mechanisme, scenario)\n",
    "            result_files_new = [os.path.join(result_path_new, f) for f in os.listdir(result_path_new) if os.path.isfile(os.path.join(result_path_new, f))]\n",
    "            result_path_old = os.path.join('Results_sim_20000', process, mechanisme, scenario)\n",
    "            result_files_old = [os.path.join(result_path_old, f) for f in os.listdir(result_path_old) if os.path.isfile(os.path.join(result_path_old, f))]\n",
    "            for method in list_methods:\n",
    "                for res_file in result_files_new:\n",
    "                    if res_file.split('/')[-1].split('.')[0] == method:\n",
    "                        with open(res_file, 'r') as json_file:\n",
    "                            res_1 = json.load(json_file)\n",
    "                for res_file in result_files_old:\n",
    "                    if res_file.split('/')[-1].split('.')[0] == method:\n",
    "                        with open(res_file, 'r') as json_file:\n",
    "                            res_2 = json.load(json_file)\n",
    "                flag_same = True\n",
    "                for sig_level in list_sig_level:\n",
    "                    for sampling_number in list_sampling_number:\n",
    "                        if not (res_1[str(sig_level)][str(sampling_number)] == res_2[str(sig_level)][str(sampling_number)]):\n",
    "                            flag_same = False\n",
    "                if flag_same == False:\n",
    "                    print('Method: ' + method)\n",
    "                    print('res_1:')\n",
    "                    print(res_1)\n",
    "                    print('res_2:')\n",
    "                    print(res_2)\n",
    "                    print('Different results.')\n",
    "            print('###############################')\n",
    "            print('###############################')\n",
    "                    \n",
    "            \n"
   ]
  },
  {
   "cell_type": "markdown",
   "id": "eca132c6-3c9b-41ae-a62e-c12c38226d8f",
   "metadata": {
    "tags": []
   },
   "source": [
    "# Change in causal coefficients"
   ]
  },
  {
   "cell_type": "code",
   "execution_count": 26,
   "id": "04fb66f3-2e7d-4129-8907-257ae9de9ece",
   "metadata": {
    "tags": []
   },
   "outputs": [
    {
     "name": "stdout",
     "output_type": "stream",
     "text": [
      "Mechanisme: Change_in_causal_coefficients\n",
      "Scenario: different_path\n",
      "Mechanisme: Change_in_causal_coefficients\n",
      "Scenario: one_path\n"
     ]
    }
   ],
   "source": [
    "# list_mechanisme = ['Change_in_causal_coefficients']\n",
    "# list_scenarios = ['different_path', 'one_path']\n",
    "# list_sampling_number = [10, 20, 50, 100, 200, 500, 1000, 2000]\n",
    "# list_sig_level = [0.01]\n",
    "# list_methods = ['AITIA_PM', 'CIRCA', 'CIRCA_star', 'CloudRanger', 'EasyRCA', 'EasyRCA_star', 'MicroCause', 'RCD', 'TRCA', 'TRCA_agent']\n",
    "# methods_change = ['CIRCA', 'CIRCA_star', 'CloudRanger', 'MicroCause', 'RCD']\n",
    "\n",
    "\n",
    "# for mechanisme in list_mechanisme:\n",
    "#     for scenario in list_scenarios:\n",
    "#         print('Mechanisme: ' + mechanisme)\n",
    "#         print('Scenario: ' + scenario)\n",
    "#         result_path_new = os.path.join('Results', mechanisme, scenario)\n",
    "#         result_files_new = [os.path.join(result_path_new, f) for f in os.listdir(result_path_new) if os.path.isfile(os.path.join(result_path_new, f))]\n",
    "#         result_path_old = os.path.join('Results_sim_20000', mechanisme, scenario)\n",
    "#         result_files_old = [os.path.join(result_path_old, f) for f in os.listdir(result_path_old) if os.path.isfile(os.path.join(result_path_old, f))]\n",
    "#         for method in list_methods:\n",
    "#             for res_file in result_files_old:\n",
    "#                 if res_file.split('/')[-1].split('.')[0] == method:\n",
    "#                     with open(res_file, 'r') as json_file:\n",
    "#                         res_2 = json.load(json_file)\n",
    "#             for res_file in result_files_new:\n",
    "#                 if res_file.split('/')[-1].split('.')[0] == method:\n",
    "#                     with open(res_file, 'r') as json_file:\n",
    "#                         res_1 = json.load(json_file)\n",
    "#                         if method in methods_change:\n",
    "#                             for sig_level in list_sig_level:\n",
    "#                                 for sampling_number in list_sampling_number:\n",
    "#                                     res_1[str(sig_level)][str(sampling_number)] = res_2[str(sig_level)][str(sampling_number)]\n",
    "#                         with open(res_file, 'w') as json_file:\n",
    "#                                 json.dump(res_1, json_file)    "
   ]
  },
  {
   "cell_type": "code",
   "execution_count": 39,
   "id": "9cd0c9a3-f2fa-4fed-a0f4-0d474ffc038d",
   "metadata": {
    "tags": []
   },
   "outputs": [
    {
     "name": "stdout",
     "output_type": "stream",
     "text": [
      "Mechanisme: Change_in_causal_coefficients\n",
      "Scenario: different_path\n",
      "###############################\n",
      "###############################\n",
      "Mechanisme: Change_in_causal_coefficients\n",
      "Scenario: one_path\n",
      "Method: TRCA_agent\n",
      "res_1:\n",
      "{'0.01': {'10': [0.95, 0.13], '20': [0.95, 0.13], '50': [0.95, 0.13], '100': [0.95, 0.13], '200': [0.95, 0.13], '500': [0.95, 0.13], '1000': [0.95, 0.13], '2000': [0.95, 0.13]}}\n",
      "res_2:\n",
      "{'0.01': {'10': [0.91, 0.15], '100': [0.91, 0.15], '500': [0.91, 0.15], '1000': [0.91, 0.15], '2000': [0.91, 0.15], '20': [0.91, 0.15], '50': [0.91, 0.15], '200': [0.91, 0.15]}}\n",
      "Different results.\n",
      "###############################\n",
      "###############################\n"
     ]
    }
   ],
   "source": [
    "list_mechanisme = ['Change_in_causal_coefficients']\n",
    "list_scenarios = ['different_path', 'one_path']\n",
    "list_sampling_number = [10, 20, 50, 100, 200, 500, 1000, 2000]\n",
    "list_sig_level = [0.01]\n",
    "list_methods = ['AITIA_PM', 'CIRCA', 'CIRCA_star', 'CloudRanger', 'EasyRCA', 'EasyRCA_star', 'MicroCause', 'RCD', 'TRCA', 'TRCA_agent']\n",
    "\n",
    "for mechanisme in list_mechanisme:\n",
    "    for scenario in list_scenarios:\n",
    "        print('Mechanisme: ' + mechanisme)\n",
    "        print('Scenario: ' + scenario)\n",
    "        result_path_new = os.path.join('Results', mechanisme, scenario)\n",
    "        result_files_new = [os.path.join(result_path_new, f) for f in os.listdir(result_path_new) if os.path.isfile(os.path.join(result_path_new, f))]\n",
    "        result_path_old = os.path.join('Results_sim_20000', mechanisme, scenario)\n",
    "        result_files_old = [os.path.join(result_path_old, f) for f in os.listdir(result_path_old) if os.path.isfile(os.path.join(result_path_old, f))]\n",
    "        for method in list_methods:\n",
    "            for res_file in result_files_new:\n",
    "                if res_file.split('/')[-1].split('.')[0] == method:\n",
    "                    with open(res_file, 'r') as json_file:\n",
    "                        res_1 = json.load(json_file)\n",
    "            for res_file in result_files_old:\n",
    "                if res_file.split('/')[-1].split('.')[0] == method:\n",
    "                    with open(res_file, 'r') as json_file:\n",
    "                        res_2 = json.load(json_file)\n",
    "            flag_same = True\n",
    "            for sig_level in list_sig_level:\n",
    "                for sampling_number in list_sampling_number:\n",
    "                    if not (res_1[str(sig_level)][str(sampling_number)] == res_2[str(sig_level)][str(sampling_number)]):\n",
    "                        flag_same = False\n",
    "            if flag_same == False:\n",
    "                print('Method: ' + method)\n",
    "                print('res_1:')\n",
    "                print(res_1)\n",
    "                print('res_2:')\n",
    "                print(res_2)\n",
    "                print('Different results.')\n",
    "        print('###############################')\n",
    "        print('###############################')"
   ]
  },
  {
   "cell_type": "markdown",
   "id": "71172596-00c9-4644-abf9-adcc0caa9b84",
   "metadata": {
    "tags": []
   },
   "source": [
    "# Change in noise"
   ]
  },
  {
   "cell_type": "code",
   "execution_count": 32,
   "id": "90629fcb-45a6-413d-b8cb-4f905db86e5d",
   "metadata": {
    "tags": []
   },
   "outputs": [
    {
     "name": "stdout",
     "output_type": "stream",
     "text": [
      "Mechanisme: Change_in_noise\n",
      "Scenario: different_path\n",
      "Mechanisme: Change_in_noise\n",
      "Scenario: one_path\n"
     ]
    }
   ],
   "source": [
    "# list_mechanisme = ['Change_in_noise']\n",
    "# list_scenarios = ['different_path', 'one_path']\n",
    "# list_sampling_number = [10, 20, 50, 100, 200, 500, 1000, 2000]\n",
    "# list_sig_level = [0.01]\n",
    "# list_methods = ['AITIA_PM', 'CIRCA', 'CIRCA_star', 'CloudRanger', 'EasyRCA', 'EasyRCA_star', 'MicroCause', 'RCD', 'TRCA', 'TRCA_agent']\n",
    "# methods_change = ['CIRCA', 'CIRCA_star', 'CloudRanger', 'MicroCause', 'RCD']\n",
    "\n",
    "\n",
    "# for mechanisme in list_mechanisme:\n",
    "#     for scenario in list_scenarios:\n",
    "#         print('Mechanisme: ' + mechanisme)\n",
    "#         print('Scenario: ' + scenario)\n",
    "#         result_path_new = os.path.join('Results', mechanisme, scenario)\n",
    "#         result_files_new = [os.path.join(result_path_new, f) for f in os.listdir(result_path_new) if os.path.isfile(os.path.join(result_path_new, f))]\n",
    "#         result_path_old = os.path.join('Results_sim_20000', mechanisme, scenario)\n",
    "#         result_files_old = [os.path.join(result_path_old, f) for f in os.listdir(result_path_old) if os.path.isfile(os.path.join(result_path_old, f))]\n",
    "#         for method in list_methods:\n",
    "#             for res_file in result_files_old:    \n",
    "#                 if res_file.split('/')[-1].split('.')[0] == method:\n",
    "#                     with open(res_file, 'r') as json_file:\n",
    "#                         res_2 = json.load(json_file)\n",
    "#             for res_file in result_files_new:\n",
    "#                 if res_file.split('/')[-1].split('.')[0] == method:\n",
    "#                     with open(res_file, 'r') as json_file:\n",
    "#                         res_1 = json.load(json_file)\n",
    "#                         if method == 'EasyRCA' and scenario == 'different_path':\n",
    "#                             for sig_level in list_sig_level:\n",
    "#                                 for sampling_number in list_sampling_number:\n",
    "#                                     res_1[str(sig_level)][str(sampling_number)] = res_2[str(sig_level)][str(sampling_number)]\n",
    "#                         elif method in methods_change:\n",
    "#                             for sig_level in list_sig_level:\n",
    "#                                 for sampling_number in list_sampling_number:\n",
    "#                                     res_1[str(sig_level)][str(sampling_number)] = res_2[str(sig_level)][str(sampling_number)]\n",
    "#                         with open(res_file, 'w') as json_file:\n",
    "#                                 json.dump(res_1, json_file)  "
   ]
  },
  {
   "cell_type": "code",
   "execution_count": 40,
   "id": "d13a2747-eb56-4710-88c9-63db56891460",
   "metadata": {
    "tags": []
   },
   "outputs": [
    {
     "name": "stdout",
     "output_type": "stream",
     "text": [
      "Mechanisme: Change_in_noise\n",
      "Scenario: different_path\n",
      "Method: TRCA\n",
      "res_1:\n",
      "{'0.01': {'10': [0.75, 0.18], '20': [0.75, 0.18], '50': [0.75, 0.18], '100': [0.75, 0.18], '200': [0.75, 0.18], '500': [0.75, 0.18], '1000': [0.75, 0.18], '2000': [0.75, 0.18]}}\n",
      "res_2:\n",
      "{'0.01': {'10': [0.8, 0.14], '100': [0.8, 0.14], '500': [0.8, 0.14], '1000': [0.8, 0.14], '2000': [0.8, 0.14], '20': [0.8, 0.14], '50': [0.8, 0.14], '200': [0.8, 0.14]}, '0.05': {'10': [0.78, 0.17], '100': [0.78, 0.17], '500': [0.78, 0.17], '1000': [0.78, 0.17], '2000': [0.78, 0.17], '20': [0.78, 0.17], '50': [0.78, 0.17], '200': [0.78, 0.17]}}\n",
      "Different results.\n",
      "###############################\n",
      "###############################\n",
      "Mechanisme: Change_in_noise\n",
      "Scenario: one_path\n",
      "Method: TRCA\n",
      "res_1:\n",
      "{'0.01': {'10': [0.62, 0.21], '20': [0.62, 0.21], '50': [0.62, 0.21], '100': [0.62, 0.21], '200': [0.62, 0.21], '500': [0.62, 0.21], '1000': [0.62, 0.21], '2000': [0.62, 0.21]}}\n",
      "res_2:\n",
      "{'0.01': {'10': [0.64, 0.2], '100': [0.64, 0.2], '500': [0.64, 0.2], '1000': [0.64, 0.2], '2000': [0.64, 0.2], '20': [0.64, 0.2], '50': [0.64, 0.2], '200': [0.64, 0.2]}, '0.05': {'10': [0.65, 0.2], '100': [0.65, 0.2], '500': [0.65, 0.2], '1000': [0.65, 0.2], '2000': [0.65, 0.2], '20': [0.65, 0.2], '50': [0.65, 0.2], '200': [0.65, 0.2]}}\n",
      "Different results.\n",
      "###############################\n",
      "###############################\n"
     ]
    }
   ],
   "source": [
    "list_mechanisme = ['Change_in_noise']\n",
    "list_scenarios = ['different_path', 'one_path']\n",
    "list_sampling_number = [10, 20, 50, 100, 200, 500, 1000, 2000]\n",
    "list_sig_level = [0.01]\n",
    "list_methods = ['AITIA_PM', 'CIRCA', 'CIRCA_star', 'CloudRanger', 'EasyRCA', 'EasyRCA_star', 'MicroCause', 'RCD', 'TRCA']\n",
    "\n",
    "for mechanisme in list_mechanisme:\n",
    "    for scenario in list_scenarios:\n",
    "        print('Mechanisme: ' + mechanisme)\n",
    "        print('Scenario: ' + scenario)\n",
    "        result_path_new = os.path.join('Results', mechanisme, scenario)\n",
    "        result_files_new = [os.path.join(result_path_new, f) for f in os.listdir(result_path_new) if os.path.isfile(os.path.join(result_path_new, f))]\n",
    "        result_path_old = os.path.join('Results_sim_20000', mechanisme, scenario)\n",
    "        result_files_old = [os.path.join(result_path_old, f) for f in os.listdir(result_path_old) if os.path.isfile(os.path.join(result_path_old, f))]\n",
    "        for method in list_methods:\n",
    "            for res_file in result_files_new:\n",
    "                if res_file.split('/')[-1].split('.')[0] == method:\n",
    "                    with open(res_file, 'r') as json_file:\n",
    "                        res_1 = json.load(json_file)\n",
    "            for res_file in result_files_old:\n",
    "                if res_file.split('/')[-1].split('.')[0] == method:\n",
    "                    with open(res_file, 'r') as json_file:\n",
    "                        res_2 = json.load(json_file)\n",
    "            flag_same = True\n",
    "            if res_file.split('/')[-1].split('.')[0] in list_methods:\n",
    "                for sig_level in list_sig_level:\n",
    "                    for sampling_number in list_sampling_number:\n",
    "                        if not (res_1[str(sig_level)][str(sampling_number)] == res_2[str(sig_level)][str(sampling_number)]):\n",
    "                            flag_same = False\n",
    "            if flag_same == False:\n",
    "                print('Method: ' + method)\n",
    "                print('res_1:')\n",
    "                print(res_1)\n",
    "                print('res_2:')\n",
    "                print(res_2)\n",
    "                print('Different results.')\n",
    "        print('###############################')\n",
    "        print('###############################')"
   ]
  },
  {
   "cell_type": "markdown",
   "id": "f72c34dd-aa45-4ba7-b6b8-7abe5efdbbaa",
   "metadata": {
    "tags": []
   },
   "source": [
    "# Robustness T-DSCM"
   ]
  },
  {
   "cell_type": "code",
   "execution_count": 46,
   "id": "97036b50-7d3b-47c0-887a-b862196348df",
   "metadata": {
    "tags": []
   },
   "outputs": [
    {
     "name": "stdout",
     "output_type": "stream",
     "text": [
      "Mechanisme: different_path\n",
      "Scenario: uncertain_SC\n",
      "###############################\n",
      "###############################\n",
      "Mechanisme: one_path\n",
      "Scenario: uncertain_SC\n",
      "Method: TRCA_agent\n",
      "res_1:\n",
      "{'0.01': {'0.8': [0.94, 0.21], '0.82': [0.91, 0.23], '0.84': [0.88, 0.26], '0.86': [0.86, 0.29], '0.88': [0.84, 0.33], '0.9': [0.85, 0.29], '0.92': [0.84, 0.3], '0.94': [0.87, 0.22], '0.96': [0.79, 0.2], '0.98': [0.75, 0.15], '-1': [1.0, 0.0]}}\n",
      "res_2:\n",
      "{'0.01': {'0.8': [0.88, 0.23], '0.81': [0.88, 0.23], '0.82': [0.89, 0.23], '0.83': [0.88, 0.25], '0.84': [0.86, 0.25], '0.85': [0.85, 0.26], '0.86': [0.84, 0.29], '0.87': [0.81, 0.31], '0.88': [0.83, 0.33], '0.89': [0.87, 0.28], '0.9': [0.84, 0.29], '0.91': [0.82, 0.32], '0.92': [0.83, 0.32], '0.93': [0.84, 0.28], '0.94': [0.86, 0.22], '0.95': [0.81, 0.22], '0.96': [0.79, 0.2], '0.97': [0.74, 0.18], '0.98': [0.75, 0.15], '0.99': [0.78, 0.15], '-1': [0.99, 0.05]}, '0.05': {'0.8': [0.86, 0.23], '0.81': [0.83, 0.23], '0.82': [0.85, 0.23], '0.83': [0.84, 0.26], '0.84': [0.78, 0.3], '0.85': [0.79, 0.29], '0.86': [0.79, 0.31], '0.87': [0.76, 0.34], '0.88': [0.76, 0.35], '0.89': [0.75, 0.35], '0.9': [0.73, 0.38], '0.91': [0.75, 0.36], '0.92': [0.79, 0.34], '0.93': [0.81, 0.33], '0.94': [0.79, 0.34], '0.95': [0.81, 0.27], '0.96': [0.69, 0.35], '0.97': [0.72, 0.26], '0.98': [0.77, 0.21], '0.99': [0.72, 0.26], '-1': [0.98, 0.08]}}\n",
      "Different results.\n",
      "###############################\n",
      "###############################\n"
     ]
    }
   ],
   "source": [
    "list_process = ['T-DSCM']\n",
    "list_mechanisme = ['different_path', 'one_path']\n",
    "list_scenarios = ['uncertain_SC']\n",
    "list_sampling_number = list(np.array(range(80, 100, 2))/100)\n",
    "list_sampling_number.append(-1)\n",
    "list_sig_level = [0.01]\n",
    "list_methods = ['TRCA', 'TRCA_agent']\n",
    "\n",
    "\n",
    "for process in list_process:\n",
    "    for mechanisme in list_mechanisme:\n",
    "        for scenario in list_scenarios:\n",
    "            print('Mechanisme: ' + mechanisme)\n",
    "            print('Scenario: ' + scenario)\n",
    "            result_path_new = os.path.join('Results_robustness', process, mechanisme, scenario)\n",
    "            result_files_new = [os.path.join(result_path_new, f) for f in os.listdir(result_path_new) if os.path.isfile(os.path.join(result_path_new, f))]\n",
    "            result_path_old = os.path.join('Results_sim_VR', process, mechanisme, scenario)\n",
    "            result_files_old = [os.path.join(result_path_old, f) for f in os.listdir(result_path_old) if os.path.isfile(os.path.join(result_path_old, f))]\n",
    "            for method in list_methods:\n",
    "                for res_file in result_files_new:\n",
    "                    if res_file.split('/')[-1].split('.')[0] == method:\n",
    "                        with open(res_file, 'r') as json_file:\n",
    "                            res_1 = json.load(json_file)\n",
    "                for res_file in result_files_old:\n",
    "                    if res_file.split('/')[-1].split('.')[0] == method:\n",
    "                        with open(res_file, 'r') as json_file:\n",
    "                            res_2 = json.load(json_file)\n",
    "                flag_same = True\n",
    "                for sig_level in list_sig_level:\n",
    "                    for sampling_number in list_sampling_number:\n",
    "                        if not (res_1[str(sig_level)][str(sampling_number)] == res_2[str(sig_level)][str(sampling_number)]):\n",
    "                            flag_same = False\n",
    "                if flag_same == False:\n",
    "                    print('Method: ' + method)\n",
    "                    print('res_1:')\n",
    "                    print(res_1)\n",
    "                    print('res_2:')\n",
    "                    print(res_2)\n",
    "                    print('Different results.')\n",
    "            print('###############################')\n",
    "            print('###############################')"
   ]
  },
  {
   "cell_type": "markdown",
   "id": "17f81987-2036-46e1-9129-756b527342fe",
   "metadata": {
    "tags": []
   },
   "source": [
    "# Robustness change in causal coefficients"
   ]
  },
  {
   "cell_type": "code",
   "execution_count": 47,
   "id": "a6a7670c-3141-40ec-a196-d09b8cf882a8",
   "metadata": {
    "tags": []
   },
   "outputs": [
    {
     "name": "stdout",
     "output_type": "stream",
     "text": [
      "Mechanisme: Change_in_causal_coefficients\n",
      "Scenario: different_path\n"
     ]
    },
    {
     "ename": "FileNotFoundError",
     "evalue": "[Errno 2] No such file or directory: 'Results_robustness/T-DSCM/Change_in_causal_coefficients/different_path'",
     "output_type": "error",
     "traceback": [
      "\u001b[0;31m---------------------------------------------------------------------------\u001b[0m",
      "\u001b[0;31mFileNotFoundError\u001b[0m                         Traceback (most recent call last)",
      "Cell \u001b[0;32mIn[47], line 15\u001b[0m\n\u001b[1;32m     13\u001b[0m \u001b[38;5;28mprint\u001b[39m(\u001b[38;5;124m'\u001b[39m\u001b[38;5;124mScenario: \u001b[39m\u001b[38;5;124m'\u001b[39m \u001b[38;5;241m+\u001b[39m scenario)\n\u001b[1;32m     14\u001b[0m result_path_new \u001b[38;5;241m=\u001b[39m os\u001b[38;5;241m.\u001b[39mpath\u001b[38;5;241m.\u001b[39mjoin(\u001b[38;5;124m'\u001b[39m\u001b[38;5;124mResults_robustness\u001b[39m\u001b[38;5;124m'\u001b[39m, process, mechanisme, scenario)\n\u001b[0;32m---> 15\u001b[0m result_files_new \u001b[38;5;241m=\u001b[39m [os\u001b[38;5;241m.\u001b[39mpath\u001b[38;5;241m.\u001b[39mjoin(result_path_new, f) \u001b[38;5;28;01mfor\u001b[39;00m f \u001b[38;5;129;01min\u001b[39;00m \u001b[43mos\u001b[49m\u001b[38;5;241;43m.\u001b[39;49m\u001b[43mlistdir\u001b[49m\u001b[43m(\u001b[49m\u001b[43mresult_path_new\u001b[49m\u001b[43m)\u001b[49m \u001b[38;5;28;01mif\u001b[39;00m os\u001b[38;5;241m.\u001b[39mpath\u001b[38;5;241m.\u001b[39misfile(os\u001b[38;5;241m.\u001b[39mpath\u001b[38;5;241m.\u001b[39mjoin(result_path_new, f))]\n\u001b[1;32m     16\u001b[0m result_path_old \u001b[38;5;241m=\u001b[39m os\u001b[38;5;241m.\u001b[39mpath\u001b[38;5;241m.\u001b[39mjoin(\u001b[38;5;124m'\u001b[39m\u001b[38;5;124mResults_sim_VR\u001b[39m\u001b[38;5;124m'\u001b[39m, process, mechanisme, scenario)\n\u001b[1;32m     17\u001b[0m result_files_old \u001b[38;5;241m=\u001b[39m [os\u001b[38;5;241m.\u001b[39mpath\u001b[38;5;241m.\u001b[39mjoin(result_path_old, f) \u001b[38;5;28;01mfor\u001b[39;00m f \u001b[38;5;129;01min\u001b[39;00m os\u001b[38;5;241m.\u001b[39mlistdir(result_path_old) \u001b[38;5;28;01mif\u001b[39;00m os\u001b[38;5;241m.\u001b[39mpath\u001b[38;5;241m.\u001b[39misfile(os\u001b[38;5;241m.\u001b[39mpath\u001b[38;5;241m.\u001b[39mjoin(result_path_old, f))]\n",
      "\u001b[0;31mFileNotFoundError\u001b[0m: [Errno 2] No such file or directory: 'Results_robustness/T-DSCM/Change_in_causal_coefficients/different_path'"
     ]
    }
   ],
   "source": [
    "list_mechanisme = ['Change_in_causal_coefficients']\n",
    "list_scenarios = ['different_path', 'one_path']\n",
    "list_sampling_number = list(np.array(range(80, 100, 2))/100)\n",
    "list_sampling_number.append(-1)\n",
    "list_sig_level = [0.01]\n",
    "list_methods = ['TRCA', 'TRCA_agent']\n",
    "\n",
    "\n",
    "\n",
    "for mechanisme in list_mechanisme:\n",
    "    for scenario in list_scenarios:\n",
    "        print('Mechanisme: ' + mechanisme)\n",
    "        print('Scenario: ' + scenario)\n",
    "        result_path_new = os.path.join('Results_robustness', mechanisme, scenario)\n",
    "        result_files_new = [os.path.join(result_path_new, f) for f in os.listdir(result_path_new) if os.path.isfile(os.path.join(result_path_new, f))]\n",
    "        result_path_old = os.path.join('Results_sim_VR', mechanisme, scenario)\n",
    "        result_files_old = [os.path.join(result_path_old, f) for f in os.listdir(result_path_old) if os.path.isfile(os.path.join(result_path_old, f))]\n",
    "        for method in list_methods:\n",
    "            for res_file in result_files_new:\n",
    "                if res_file.split('/')[-1].split('.')[0] == method:\n",
    "                    with open(res_file, 'r') as json_file:\n",
    "                        res_1 = json.load(json_file)\n",
    "            for res_file in result_files_old:\n",
    "                if res_file.split('/')[-1].split('.')[0] == method:\n",
    "                    with open(res_file, 'r') as json_file:\n",
    "                        res_2 = json.load(json_file)\n",
    "            flag_same = True\n",
    "            for sig_level in list_sig_level:\n",
    "                for sampling_number in list_sampling_number:\n",
    "                    if not (res_1[str(sig_level)][str(sampling_number)] == res_2[str(sig_level)][str(sampling_number)]):\n",
    "                        flag_same = False\n",
    "            if flag_same == False:\n",
    "                print('Method: ' + method)\n",
    "                print('res_1:')\n",
    "                print(res_1)\n",
    "                print('res_2:')\n",
    "                print(res_2)\n",
    "                print('Different results.')\n",
    "        print('###############################')\n",
    "        print('###############################')"
   ]
  },
  {
   "cell_type": "markdown",
   "id": "86783db3-8e72-48f5-b5ed-9553f9490f57",
   "metadata": {
    "tags": []
   },
   "source": [
    "# Robustness change in noise"
   ]
  },
  {
   "cell_type": "code",
   "execution_count": null,
   "id": "acb4e0ac-6bdd-4a41-b175-eb85d4fab03e",
   "metadata": {},
   "outputs": [],
   "source": []
  }
 ],
 "metadata": {
  "kernelspec": {
   "display_name": "Python 3",
   "language": "python",
   "name": "python3"
  },
  "language_info": {
   "codemirror_mode": {
    "name": "ipython",
    "version": 3
   },
   "file_extension": ".py",
   "mimetype": "text/x-python",
   "name": "python",
   "nbconvert_exporter": "python",
   "pygments_lexer": "ipython3",
   "version": "3.8.18"
  }
 },
 "nbformat": 4,
 "nbformat_minor": 5
}
