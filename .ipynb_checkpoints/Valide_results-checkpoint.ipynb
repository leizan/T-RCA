{
 "cells": [
  {
   "cell_type": "code",
   "execution_count": 1,
   "id": "632329fe-8074-4137-a790-3aabfdba8ef8",
   "metadata": {
    "tags": []
   },
   "outputs": [],
   "source": [
    "import os\n",
    "import json "
   ]
  },
  {
   "cell_type": "markdown",
   "id": "700e3e43-b0fc-4d3b-837e-b83a973fa681",
   "metadata": {},
   "source": [
    "# T-DSCM"
   ]
  },
  {
   "cell_type": "code",
   "execution_count": 6,
   "id": "3360aa73-4277-46ee-8662-17cb7af67d4b",
   "metadata": {
    "tags": []
   },
   "outputs": [],
   "source": [
    "list_process = ['T-DSCM']\n",
    "list_mechanisme = ['different_path', 'one_path']\n",
    "list_scenarios = ['certain', 'certain_SC', 'uncertain', 'uncertain_SC']\n",
    "list_sampling_number = [10, 20, 50, 100, 200, 500, 1000, 2000]\n",
    "list_sig_level = [0.01]\n",
    "list_methods = ['AITIA_PM', 'CIRCA', 'CIRCA_star', 'CloudRanger', 'EasyRCA', 'EasyRCA_star', 'MicroCause', 'RCD', 'TRCA']\n",
    "\n",
    "\n",
    "for process in list_process:\n",
    "    for mechanisme in list_mechanisme:\n",
    "        for scenario in list_scenarios:\n",
    "            result_path_new = os.path.join('Results', process, mechanisme, scenario)\n",
    "            result_files_new = [os.path.join(result_path_new, f) for f in os.listdir(result_path_new) if os.path.isfile(os.path.join(result_path_new, f))]\n",
    "            result_path_old = os.path.join('Results_sim_20000', process, mechanisme, scenario)\n",
    "            result_files_old = [os.path.join(result_path_old, f) for f in os.listdir(result_path_old) if os.path.isfile(os.path.join(result_path_old, f))]\n",
    "            for method in list_methods:\n",
    "                for res_1 in result_files_new:\n",
    "                    \n",
    "                for res_2 in result_files_old:\n",
    "                    \n",
    "            \n"
   ]
  },
  {
   "cell_type": "code",
   "execution_count": 7,
   "id": "f1cfcb90-44f3-4ea5-8611-a4c546e80e6a",
   "metadata": {
    "tags": []
   },
   "outputs": [
    {
     "data": {
      "text/plain": [
       "['Results/T-DSCM/one_path/uncertain_SC/MicroCause.json',\n",
       " 'Results/T-DSCM/one_path/uncertain_SC/CloudRanger.json',\n",
       " 'Results/T-DSCM/one_path/uncertain_SC/TRCA_agent.json',\n",
       " 'Results/T-DSCM/one_path/uncertain_SC/EasyRCA.json',\n",
       " 'Results/T-DSCM/one_path/uncertain_SC/EasyRCA_star.json',\n",
       " 'Results/T-DSCM/one_path/uncertain_SC/CIRCA.json',\n",
       " 'Results/T-DSCM/one_path/uncertain_SC/RCD.json',\n",
       " 'Results/T-DSCM/one_path/uncertain_SC/TRCA.json',\n",
       " 'Results/T-DSCM/one_path/uncertain_SC/CIRCA_star.json']"
      ]
     },
     "execution_count": 7,
     "metadata": {},
     "output_type": "execute_result"
    }
   ],
   "source": []
  },
  {
   "cell_type": "code",
   "execution_count": 8,
   "id": "218294b7-5f2a-4cf6-b6c3-4a6f73bebd37",
   "metadata": {
    "tags": []
   },
   "outputs": [
    {
     "data": {
      "text/plain": [
       "['Results_sim_20000/T-DSCM/one_path/uncertain_SC/MicroCause.json',\n",
       " 'Results_sim_20000/T-DSCM/one_path/uncertain_SC/CloudRanger.json',\n",
       " 'Results_sim_20000/T-DSCM/one_path/uncertain_SC/TRCA_agent.json',\n",
       " 'Results_sim_20000/T-DSCM/one_path/uncertain_SC/EasyRCA.json',\n",
       " 'Results_sim_20000/T-DSCM/one_path/uncertain_SC/EasyRCA_star.json',\n",
       " 'Results_sim_20000/T-DSCM/one_path/uncertain_SC/CIRCA.json',\n",
       " 'Results_sim_20000/T-DSCM/one_path/uncertain_SC/RCD.json',\n",
       " 'Results_sim_20000/T-DSCM/one_path/uncertain_SC/TRCA.json',\n",
       " 'Results_sim_20000/T-DSCM/one_path/uncertain_SC/CIRCA_star.json',\n",
       " 'Results_sim_20000/T-DSCM/one_path/uncertain_SC/AITIA_PM.json']"
      ]
     },
     "execution_count": 8,
     "metadata": {},
     "output_type": "execute_result"
    }
   ],
   "source": []
  },
  {
   "cell_type": "markdown",
   "id": "eca132c6-3c9b-41ae-a62e-c12c38226d8f",
   "metadata": {
    "tags": []
   },
   "source": [
    "# Change in causal coefficients"
   ]
  },
  {
   "cell_type": "markdown",
   "id": "71172596-00c9-4644-abf9-adcc0caa9b84",
   "metadata": {
    "tags": []
   },
   "source": [
    "# Change in noise"
   ]
  },
  {
   "cell_type": "code",
   "execution_count": null,
   "id": "d13a2747-eb56-4710-88c9-63db56891460",
   "metadata": {},
   "outputs": [],
   "source": []
  }
 ],
 "metadata": {
  "kernelspec": {
   "display_name": "Python 3",
   "language": "python",
   "name": "python3"
  },
  "language_info": {
   "codemirror_mode": {
    "name": "ipython",
    "version": 3
   },
   "file_extension": ".py",
   "mimetype": "text/x-python",
   "name": "python",
   "nbconvert_exporter": "python",
   "pygments_lexer": "ipython3",
   "version": "3.8.18"
  }
 },
 "nbformat": 4,
 "nbformat_minor": 5
}
